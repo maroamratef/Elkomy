{
  "cells": [
    {
      "cell_type": "markdown",
      "metadata": {
        "id": "J11PT3Yl0clI"
      },
      "source": [
        "```\n",
        "Copyright 2024 DeepMind Technologies Limited\n",
        "\n",
        "All software is licensed under the Apache License, Version 2.0 (Apache 2.0);\n",
        "you may not use this file except in compliance with the Apache 2.0 license.\n",
        "You may obtain a copy of the Apache 2.0 license at:\n",
        "https://www.apache.org/licenses/LICENSE-2.0\n",
        "\n",
        "All other materials are licensed under the Creative Commons Attribution 4.0\n",
        "International License (CC-BY). You may obtain a copy of the CC-BY license at:\n",
        "https://creativecommons.org/licenses/by/4.0/legalcode\n",
        "\n",
        "Unless required by applicable law or agreed to in writing, all software and\n",
        "materials distributed here under the Apache 2.0 or CC-BY licenses are\n",
        "distributed on an \"AS IS\" BASIS, WITHOUT WARRANTIES OR CONDITIONS OF ANY KIND,\n",
        "either express or implied. See the licenses for the specific language governing\n",
        "permissions and limitations under those licenses.\n",
        "\n",
        "This is not an official Google product.\n",
        "```\n",
        "\n",
        "# Output Decompositions from AlphaTensor-Quantum\n",
        "\n",
        "This Colab shows how to load and inspect the decompositions provided along with the AlphaTensor-Quantum paper. Decompositions are provided in `.npz` files, each containing a dictionary mapping from the target circuit name to a Numpy array of shape `(num_decompositions, num_factors, tensor_size)`, where we report *at most* `num_decompositions = 10` non-equivalent decompositions (equivalence is determined solely based on factor permutations)."
      ]
    },
    {
      "cell_type": "code",
      "source": [
        "! git clone https://github.com/google-deepmind/alphatensor_quantum.git"
      ],
      "metadata": {
        "id": "EjgVCGf0Alc7"
      },
      "execution_count": null,
      "outputs": []
    },
    {
      "cell_type": "code",
      "execution_count": null,
      "metadata": {
        "id": "QNB88aa61-AI"
      },
      "outputs": [],
      "source": [
        "import numpy as np\n",
        "\n",
        "from google.colab import files"
      ]
    },
    {
      "cell_type": "markdown",
      "metadata": {
        "id": "ZKHDpI7n1_-h"
      },
      "source": [
        "## Example 1: Loading factorizations without gadgets\n",
        "\n",
        "All the decompositions in those files whose name end with `_no_gadgets` do not contain any gadgets, i.e., there is a direct one-to-one mapping between the number of factors and the T-count.\n",
        "\n",
        "As an example, run the following block. When prompted, upload the file named `benchmarks_no_gadgets.npz`."
      ]
    },
    {
      "cell_type": "code",
      "execution_count": null,
      "metadata": {
        "id": "L9_YRyjC0ctn"
      },
      "outputs": [],
      "source": [
        "uploaded = files.upload()\n",
        "filename = list(uploaded.keys())[0]\n",
        "with open(filename, 'rb') as f:\n",
        "  decompositions = np.load(f)"
      ]
    },
    {
      "cell_type": "code",
      "execution_count": null,
      "metadata": {
        "id": "finN-xaz3Gar"
      },
      "outputs": [],
      "source": [
        "# Print the names of all the targets in this file.\n",
        "print(list(decompositions.keys()))"
      ]
    },
    {
      "cell_type": "markdown",
      "metadata": {
        "id": "sDIMHf4k23E1"
      },
      "source": [
        "Now, we obtain the decompositions for the target `'qft_4'`, which has `43` qubits (after compilation) and for which the reported T-count (without gadgets) is `53`."
      ]
    },
    {
      "cell_type": "code",
      "execution_count": null,
      "metadata": {
        "id": "bUT4-57O0cvn"
      },
      "outputs": [],
      "source": [
        "# Obtain the decompositions for the target of interest\n",
        "target_circuit_name = 'qft_4'  # @param {type: \"string\"}\n",
        "expected_size = 43  # @param {type: \"integer\"}\n",
        "expected_tcount = 53  # @param {type: \"integer\"}\n",
        "\n",
        "with open(filename, 'rb') as f:\n",
        "  decompositions = np.load(f)\n",
        "  # We need a deep copy as the file will be closed after the `open` block.\n",
        "  factors = np.copy(decompositions[target_circuit_name]).astype(np.int32)\n",
        "\n",
        "num_decompositions, num_factors, size = factors.shape\n",
        "print(f'{num_decompositions=}   {num_factors=}   {size=}')\n",
        "\n",
        "# Verify the T-count and the size.\n",
        "assert size == expected_size\n",
        "assert num_factors == expected_tcount\n",
        "\n",
        "# Verify that all the non-equivalent `num_decompositions` decompositions give\n",
        "# the same tensor.\n",
        "tensors = np.mod(np.einsum('bru,brv,brw->buvw', factors, factors, factors), 2)\n",
        "for tensor in tensors:\n",
        "  np.testing.assert_array_equal(tensor, tensors[0])"
      ]
    },
    {
      "cell_type": "markdown",
      "metadata": {
        "id": "WdoC2Tav4_87"
      },
      "source": [
        "## Example 2: Loading factorizations with gadgets\n",
        "\n",
        "All the decompositions in those files whose name does not end with `_no_gadgets` may contain Toffoli and CS gadgets. Due to the presence of gadgets, there is not a one-to-one correspondence between the number of factors and the T-count.\n",
        "\n",
        "As an example, run the following block. When prompted, upload the file named `benchmarks_gadgets.npz`."
      ]
    },
    {
      "cell_type": "code",
      "execution_count": null,
      "metadata": {
        "id": "I2syUVqV5D2V"
      },
      "outputs": [],
      "source": [
        "uploaded = files.upload()\n",
        "filename = list(uploaded.keys())[0]\n",
        "with open(filename, 'rb') as f:\n",
        "  decompositions = np.load(f)"
      ]
    },
    {
      "cell_type": "code",
      "execution_count": null,
      "metadata": {
        "id": "H8QnZERg5jzb"
      },
      "outputs": [],
      "source": [
        "# Print the names of all the targets in this file.\n",
        "print(list(decompositions.keys()))"
      ]
    },
    {
      "cell_type": "markdown",
      "metadata": {
        "id": "TJ8Yw1TT5mA8"
      },
      "source": [
        "Now, we obtain the decompositions for the target `'qft_4'`, which has `43` qubits (after compilation) and for which the reported T-count (with gadgets) is `44`. Specifically, it contains `4` Toffoli gadgets and `3` CS gadgets."
      ]
    },
    {
      "cell_type": "code",
      "execution_count": null,
      "metadata": {
        "id": "J2Iahkuv5hLJ"
      },
      "outputs": [],
      "source": [
        "# Obtain the decompositions for the target of interest\n",
        "target_circuit_name = 'qft_4'  # @param {type: \"string\"}\n",
        "expected_size = 43  # @param {type: \"integer\"}\n",
        "expected_tcount = 44  # @param {type: \"integer\"}\n",
        "expected_num_toffoli_gadgets = 4  # @param {type: \"integer\"}\n",
        "expected_num_cs_gadgets = 3  # @param {type: \"integer\"}\n",
        "\n",
        "with open(filename, 'rb') as f:\n",
        "  decompositions = np.load(f)\n",
        "  # We need a deep copy as the file will be closed after the `open` block.\n",
        "  factors = np.copy(decompositions[target_circuit_name]).astype(np.int32)\n",
        "\n",
        "num_decompositions, num_factors, size = factors.shape\n",
        "print(f'{num_decompositions=}   {num_factors=}   {size=}')\n",
        "\n",
        "# Verify the T-count and the size.\n",
        "assert size == expected_size\n",
        "assert num_factors >= expected_tcount\n",
        "\n",
        "# Verify that all the non-equivalent `num_decompositions` decompositions give\n",
        "# the same tensor.\n",
        "tensors = np.mod(np.einsum('bru,brv,brw->buvw', factors, factors, factors), 2)\n",
        "for tensor in tensors:\n",
        "  np.testing.assert_array_equal(tensor, tensors[0])"
      ]
    },
    {
      "cell_type": "markdown",
      "metadata": {
        "id": "PBxi2kxK6F1Z"
      },
      "source": [
        "Verify that the T-count and the number of gadgets coincide with the quantities reported in the paper."
      ]
    },
    {
      "cell_type": "code",
      "execution_count": null,
      "metadata": {
        "cellView": "form",
        "id": "TTx48OxC9RaR"
      },
      "outputs": [],
      "source": [
        "#@title Function to find gadgets\n",
        "\n",
        "def _check_cs_gadget(factors: np.ndarray) -> bool:\n",
        "  a, b, ab = factors\n",
        "  linearly_independent = np.any(a != b)\n",
        "  linear_dependencies = np.all(ab == np.mod(a + b, 2))\n",
        "  return linearly_independent and linear_dependencies\n",
        "\n",
        "def _check_toffoli_gadget(factors: np.ndarray) -> bool:\n",
        "  a, b, c, ab, ac, abc, bc = factors\n",
        "  linearly_independent = (\n",
        "      np.any(a != b) and np.any(a != c) and np.any(b != c) and\n",
        "      np.any(c != np.mod(a + b, 2))\n",
        "  )\n",
        "  linear_dependencies = (\n",
        "      np.all(ab == np.mod(a + b, 2)) and\n",
        "      np.all(ac == np.mod(a + c, 2)) and\n",
        "      np.all(abc == np.mod(a + b + c, 2)) and\n",
        "      np.all(bc == np.mod(b + c, 2))\n",
        "  )\n",
        "  return linearly_independent and linear_dependencies\n",
        "\n",
        "def find_gadgets(\n",
        "    factors: np.ndarray\n",
        ") -> tuple[int, int, int, np.ndarray, np.ndarray]:\n",
        "  \"\"\"Finds the gadgets present in the input factorization.\n",
        "\n",
        "  Args:\n",
        "    factors: The input factorization, as an array of shape (num_factors, size).\n",
        "      It is assumed that none of the input factors is the all-zero factor.\n",
        "\n",
        "  Returns:\n",
        "    A 5-tuple containing:\n",
        "    - The effective T-count of the factorization.\n",
        "    - The number of Toffoli gadgets.\n",
        "    - The number of CS gadgets.\n",
        "    - Whether each factor is part of a Toffoli gadget, as a boolean array of\n",
        "      shape (num_factors,).\n",
        "    - Whether each factor is part of a CS gadget, as a boolean array of\n",
        "      shape (num_factors,).\n",
        "  \"\"\"\n",
        "  num_factors, _ = factors.shape\n",
        "  num_toffoli_gadgets = 0\n",
        "  num_cs_gadgets = 0\n",
        "  factors_in_toffoli_gadget = np.zeros((num_factors,), dtype=np.bool_)\n",
        "  factors_in_cs_gadget = np.zeros((num_factors,), dtype=np.bool_)\n",
        "\n",
        "  for r in range(num_factors):\n",
        "    completed_toffoli = False\n",
        "    completed_cs = False\n",
        "    factors_not_in_gadgets = np.logical_not(\n",
        "        np.logical_or(factors_in_toffoli_gadget, factors_in_cs_gadget)\n",
        "    )\n",
        "    # Check for a Toffoli gadget.\n",
        "    if (r >= 6 and _check_toffoli_gadget(factors[(r - 6):(r + 1)]) and\n",
        "        np.all(factors_not_in_gadgets[(r - 6):(r + 1)])):\n",
        "      completed_toffoli = True\n",
        "      num_toffoli_gadgets += 1\n",
        "      factors_in_toffoli_gadget[(r - 6):(r + 1)] = True\n",
        "    # Check for a CS gadget.\n",
        "    if (r >= 2 and _check_cs_gadget(factors[(r - 2):(r + 1)]) and\n",
        "        np.all(factors_not_in_gadgets[(r - 2):(r + 1)])):\n",
        "      completed_cs = True\n",
        "      num_cs_gadgets += 1\n",
        "      factors_in_cs_gadget[(r - 2):(r + 1)] = True\n",
        "    # Sanity checks.\n",
        "    assert not (completed_toffoli and completed_cs)\n",
        "    assert num_toffoli_gadgets == np.sum(factors_in_toffoli_gadget) // 7\n",
        "    assert num_cs_gadgets == np.sum(factors_in_cs_gadget) // 3\n",
        "    assert not np.any(\n",
        "        np.logical_and(factors_in_toffoli_gadget, factors_in_cs_gadget)\n",
        "    )\n",
        "\n",
        "  # Obtain the equivalent T-count.\n",
        "  tcount = num_factors - 5 * num_toffoli_gadgets - num_cs_gadgets\n",
        "  return (\n",
        "      tcount, num_toffoli_gadgets, num_cs_gadgets,\n",
        "      factors_in_toffoli_gadget, factors_in_cs_gadget\n",
        "  )"
      ]
    },
    {
      "cell_type": "code",
      "execution_count": null,
      "metadata": {
        "id": "Bc3JXGyx6EZo"
      },
      "outputs": [],
      "source": [
        "for f in factors:\n",
        "  tcount, num_toffoli_gadgets, num_cs_gadgets, _, _ = find_gadgets(f)\n",
        "  assert tcount == expected_tcount\n",
        "  assert num_toffoli_gadgets == expected_num_toffoli_gadgets\n",
        "  assert num_cs_gadgets == expected_num_cs_gadgets"
      ]
    },
    {
      "cell_type": "markdown",
      "metadata": {
        "id": "8xhf8gJzhG3_"
      },
      "source": [
        "We can also find out which factors form part of a gadget (in this example, we inspect the first of the decompositions):"
      ]
    },
    {
      "cell_type": "code",
      "execution_count": null,
      "metadata": {
        "id": "8LbR0jLighvT"
      },
      "outputs": [],
      "source": [
        "_, _, _, factors_in_toffoli_gadget, factors_in_cs_gadget = find_gadgets(\n",
        "    factors[0]\n",
        ")\n",
        "print(f'{factors_in_toffoli_gadget=}')\n",
        "print(f'{factors_in_cs_gadget=}')"
      ]
    },
    {
      "cell_type": "code",
      "execution_count": null,
      "metadata": {
        "id": "JXPlbEY7EO7o"
      },
      "outputs": [],
      "source": []
    }
  ],
  "metadata": {
    "colab": {
      "provenance": []
    },
    "kernelspec": {
      "display_name": "Python 3",
      "name": "python3"
    },
    "language_info": {
      "name": "python"
    }
  },
  "nbformat": 4,
  "nbformat_minor": 0
}